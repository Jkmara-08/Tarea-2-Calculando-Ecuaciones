{
  "nbformat": 4,
  "nbformat_minor": 0,
  "metadata": {
    "colab": {
      "provenance": [],
      "authorship_tag": "ABX9TyNFAWjeTmanvrXhr3ILJ7Vm",
      "include_colab_link": true
    },
    "kernelspec": {
      "name": "python3",
      "display_name": "Python 3"
    },
    "language_info": {
      "name": "python"
    }
  },
  "cells": [
    {
      "cell_type": "markdown",
      "metadata": {
        "id": "view-in-github",
        "colab_type": "text"
      },
      "source": [
        "<a href=\"https://colab.research.google.com/github/Jkmara-08/Tarea-2-Calculando-Ecuaciones/blob/Tarea-2-Resolucion-De-Ecuaciones/Tarea_2_Resolucion_De_Ecuaciones.ipynb\" target=\"_parent\"><img src=\"https://colab.research.google.com/assets/colab-badge.svg\" alt=\"Open In Colab\"/></a>"
      ]
    },
    {
      "cell_type": "code",
      "execution_count": null,
      "metadata": {
        "id": "eoXGYvi17HGx"
      },
      "outputs": [],
      "source": []
    },
    {
      "cell_type": "markdown",
      "source": [
        "# Ecuación de velocidad en MRU\n",
        "\n",
        "v(t) = v0 + at\n",
        "\n",
        "# Donde:\n",
        "# v(t): velocidad en el instante t (m/s)\n",
        "# v0: velocidad inicial (m/s)\n",
        "# a: aceleración constante (m/s²)\n",
        "# t: tiempo (s)"
      ],
      "metadata": {
        "id": "PnbbKaPs7HhW"
      }
    },
    {
      "cell_type": "code",
      "source": [
        "# prompt: por favor crea un codigo para resolver la \"ecuacion de velocidad en MRU\"\n",
        "\n",
        "def calcular_velocidad(v0, a, t):\n",
        "  \"\"\"\n",
        "  Calcula la velocidad en un movimiento rectilíneo uniforme (MRU).\n",
        "\n",
        "  Args:\n",
        "    v0: Velocidad inicial (m/s).\n",
        "    a: Aceleración constante (m/s²).\n",
        "    t: Tiempo (s).\n",
        "\n",
        "  Returns:\n",
        "    La velocidad en el instante t (m/s).\n",
        "  \"\"\"\n",
        "  v_t = v0 + a * t\n",
        "  return v_t\n",
        "\n",
        "# Ejemplo de uso:\n",
        "v0 = 10  # Velocidad inicial (m/s)\n",
        "a = 2   # Aceleración (m/s²)\n",
        "t = 5   # Tiempo (s)\n",
        "\n",
        "velocidad_final = calcular_velocidad(v0, a, t)\n",
        "print(f\"La velocidad en el instante t = {t} s es: {velocidad_final} m/s\")\n"
      ],
      "metadata": {
        "colab": {
          "base_uri": "https://localhost:8080/"
        },
        "id": "l3c-UUkU7eUs",
        "outputId": "0cc32cc3-7166-4332-c802-ec40525caedb"
      },
      "execution_count": 1,
      "outputs": [
        {
          "output_type": "stream",
          "name": "stdout",
          "text": [
            "La velocidad en el instante t = 5 s es: 20 m/s\n"
          ]
        }
      ]
    },
    {
      "cell_type": "markdown",
      "source": [
        "# Ley de Beer-Lambert para la absorbancia\n",
        "\n",
        "A = log10(I0/I) = εcl\n",
        "\n",
        "# Donde:\n",
        "# A: absorbancia\n",
        "# I0: intensidad de la luz incidente\n",
        "# I: intensidad de la luz transmitida\n",
        "# ε: coeficiente de extinción molar\n",
        "# c: concentración de la sustancia\n",
        "# l: longitud del camino de la celda"
      ],
      "metadata": {
        "id": "9lpXpDio7Q1h"
      }
    },
    {
      "cell_type": "code",
      "source": [
        "# prompt: por favor crea un codigo para resolver la \"ley de Beer-Lambert para la absorbancia\"\n",
        "\n",
        "import math\n",
        "\n",
        "def calcular_absorbancia(I0, I):\n",
        "  \"\"\"\n",
        "  Calcula la absorbancia según la ley de Beer-Lambert.\n",
        "\n",
        "  Args:\n",
        "    I0: Intensidad de la luz incidente.\n",
        "    I: Intensidad de la luz transmitida.\n",
        "\n",
        "  Returns:\n",
        "    La absorbancia.\n",
        "  \"\"\"\n",
        "  if I == 0:\n",
        "    return float('inf')  # Manejar división por cero\n",
        "  A = math.log10(I0 / I)\n",
        "  return A\n",
        "\n",
        "def calcular_concentracion(A, ε, l):\n",
        "  \"\"\"\n",
        "  Calcula la concentración de una sustancia según la ley de Beer-Lambert.\n",
        "\n",
        "  Args:\n",
        "    A: Absorbancia.\n",
        "    ε: Coeficiente de extinción molar.\n",
        "    l: Longitud del camino de la celda.\n",
        "\n",
        "  Returns:\n",
        "    La concentración de la sustancia.\n",
        "  \"\"\"\n",
        "  if ε == 0 or l == 0:\n",
        "    return 0  # Manejar multiplicación por cero\n",
        "  c = A / (ε * l)\n",
        "  return c\n",
        "\n",
        "# Ejemplo de uso:\n",
        "I0 = 10  # Intensidad de la luz incidente\n",
        "I = 5   # Intensidad de la luz transmitida\n",
        "\n",
        "absorbancia = calcular_absorbancia(I0, I)\n",
        "print(f\"La absorbancia es: {absorbancia}\")\n",
        "\n",
        "# Ejemplo de cálculo de concentración:\n",
        "A = 0.3  # Absorbancia\n",
        "ε = 100  # Coeficiente de extinción molar\n",
        "l = 1    # Longitud del camino de la celda (cm)\n",
        "\n",
        "concentracion = calcular_concentracion(A, ε, l)\n",
        "print(f\"La concentración es: {concentracion} mol/L\")\n"
      ],
      "metadata": {
        "colab": {
          "base_uri": "https://localhost:8080/"
        },
        "id": "vHRxswsO7wZi",
        "outputId": "25e7d62f-2d06-43e7-fc33-1861b9aacc3c"
      },
      "execution_count": 2,
      "outputs": [
        {
          "output_type": "stream",
          "name": "stdout",
          "text": [
            "La absorbancia es: 0.3010299956639812\n",
            "La concentración es: 0.003 mol/L\n"
          ]
        }
      ]
    },
    {
      "cell_type": "markdown",
      "source": [
        "# Ecuación de regresión lineal\n",
        "\n",
        "y = mx + b\n",
        "\n",
        "# Donde:\n",
        "# y: variable dependiente\n",
        "# x: variable independiente\n",
        "# m: pendiente de la recta\n",
        "# b: ordenada al origen"
      ],
      "metadata": {
        "id": "ryPWhMIy7YR0"
      }
    },
    {
      "cell_type": "code",
      "source": [
        "# prompt: por favor crea un codigo para resolver la \"ecuacion de regresion lineal\"\n",
        "\n",
        "import numpy as np\n",
        "\n",
        "def calcular_regresion_lineal(x, y):\n",
        "  \"\"\"\n",
        "  Calcula la ecuación de regresión lineal (y = mx + b) para un conjunto de datos.\n",
        "\n",
        "  Args:\n",
        "    x: Lista de valores de la variable independiente.\n",
        "    y: Lista de valores de la variable dependiente.\n",
        "\n",
        "  Returns:\n",
        "    Una tupla (m, b) que representa la pendiente y la ordenada al origen de la recta.\n",
        "  \"\"\"\n",
        "  n = len(x)\n",
        "  sum_x = sum(x)\n",
        "  sum_y = sum(y)\n",
        "  sum_xy = sum([xi * yi for xi, yi in zip(x, y)])\n",
        "  sum_x2 = sum([xi ** 2 for xi in x])\n",
        "\n",
        "  m = (n * sum_xy - sum_x * sum_y) / (n * sum_x2 - sum_x ** 2)\n",
        "  b = (sum_y - m * sum_x) / n\n",
        "\n",
        "  return m, b\n",
        "\n",
        "# Ejemplo de uso:\n",
        "x = [1, 2, 3, 4, 5]\n",
        "y = [2, 4, 5, 4, 6]\n",
        "\n",
        "m, b = calcular_regresion_lineal(x, y)\n",
        "\n",
        "print(f\"La ecuación de regresión lineal es: y = {m:.2f}x + {b:.2f}\")\n"
      ],
      "metadata": {
        "colab": {
          "base_uri": "https://localhost:8080/"
        },
        "id": "znyX-dAy8Hhd",
        "outputId": "5bfdff84-08ab-466d-c972-369200041424"
      },
      "execution_count": 3,
      "outputs": [
        {
          "output_type": "stream",
          "name": "stdout",
          "text": [
            "La ecuación de regresión lineal es: y = 0.80x + 1.80\n"
          ]
        }
      ]
    }
  ]
}